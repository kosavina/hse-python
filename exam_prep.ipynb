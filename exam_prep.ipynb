{
  "nbformat": 4,
  "nbformat_minor": 0,
  "metadata": {
    "colab": {
      "provenance": []
    },
    "kernelspec": {
      "name": "python3",
      "display_name": "Python 3"
    },
    "language_info": {
      "name": "python"
    }
  },
  "cells": [
    {
      "cell_type": "markdown",
      "source": [
        "## Exam Prep (21 Oct 2023)\n",
        "\n",
        "[![Open In Colab](https://colab.research.google.com/assets/colab-badge.svg)](https://colab.research.google.com/github/kosavina/hse-python/blob/main/exam_prep.ipynb)"
      ],
      "metadata": {
        "id": "3GOr5JrnV_hx"
      }
    },
    {
      "cell_type": "markdown",
      "source": [
        "$f(x) = x \\ln (x+ \\sqrt{1 + x^2}) - \\sqrt{1+ x^2}, \\quad x \\in [-5; 5]$"
      ],
      "metadata": {
        "id": "BsLOarZHt9kM"
      }
    },
    {
      "cell_type": "code",
      "source": [
        "import numpy as np\n",
        "import seaborn as sns"
      ],
      "metadata": {
        "id": "w_EV70WGt-nk"
      },
      "execution_count": null,
      "outputs": []
    },
    {
      "cell_type": "code",
      "source": [
        "sns.set_theme(style=\"darkgrid\")"
      ],
      "metadata": {
        "id": "0MrOa8w2uNGO"
      },
      "execution_count": null,
      "outputs": []
    },
    {
      "cell_type": "code",
      "source": [
        "def f(x):\n",
        "  a = np.sqrt(1 + x**2)\n",
        "  b = np.log(x + a)\n",
        "  return x * b - a"
      ],
      "metadata": {
        "id": "2VRBHCZ1uSZl"
      },
      "execution_count": null,
      "outputs": []
    },
    {
      "cell_type": "code",
      "source": [
        "x = np.linspace(-5, 5, 100)"
      ],
      "metadata": {
        "id": "_MNHMjrMu4gV"
      },
      "execution_count": null,
      "outputs": []
    },
    {
      "cell_type": "code",
      "source": [
        "y = f(x)"
      ],
      "metadata": {
        "id": "xyVYMAybu7cG"
      },
      "execution_count": null,
      "outputs": []
    },
    {
      "cell_type": "code",
      "source": [
        "g = sns.lineplot(x=x, y=y)\n",
        "g.set(xlabel='x', ylabel='y', title='$f(x) = x \\ln (x+ \\sqrt{1 + x^2}) - \\sqrt{1+ x^2}, \\quad x \\in [-5; 5]$')"
      ],
      "metadata": {
        "colab": {
          "base_uri": "https://localhost:8080/",
          "height": 541
        },
        "id": "BKjJ_v4VwHft",
        "outputId": "f62ea729-168d-4353-859b-cede7423fdcb"
      },
      "execution_count": null,
      "outputs": [
        {
          "output_type": "execute_result",
          "data": {
            "text/plain": [
              "[Text(0.5, 0, 'x'),\n",
              " Text(0, 0.5, 'y'),\n",
              " Text(0.5, 1.0, '$f(x) = x \\\\ln (x+ \\\\sqrt{1 + x^2}) - \\\\sqrt{1+ x^2}, \\\\quad x \\\\in [-5; 5]$')]"
            ]
          },
          "metadata": {},
          "execution_count": 16
        },
        {
          "output_type": "display_data",
          "data": {
            "text/plain": [
              "<Figure size 640x480 with 1 Axes>"
            ],
            "image/png": "[encoded data removed]"
          },
          "metadata": {}
        }
      ]
    },
    {
      "cell_type": "markdown",
      "source": [
        "$\\begin{pmatrix}\n",
        "-1 & 1 \\\\\n",
        "0 & 2\n",
        "\\end{pmatrix} \\cdot X \\cdot\n",
        "\\begin{pmatrix}\n",
        "-1 & 0.5 \\\\\n",
        "0 & 0.5\n",
        "\\end{pmatrix} =\n",
        "\\begin{pmatrix}\n",
        "1 & 2 \\\\\n",
        "-2 & 4\n",
        "\\end{pmatrix}$\n"
      ],
      "metadata": {
        "id": "IKhKhC-7wSnr"
      }
    },
    {
      "cell_type": "code",
      "source": [
        "A = np.array(\n",
        "    [\n",
        "        [-1, 1],\n",
        "        [0, 2]\n",
        "    ]\n",
        ")\n",
        "A"
      ],
      "metadata": {
        "colab": {
          "base_uri": "https://localhost:8080/"
        },
        "id": "TNjnSDOnxAdg",
        "outputId": "f550bb81-e4f3-4c76-baa8-e2c79ad6ebb3"
      },
      "execution_count": null,
      "outputs": [
        {
          "output_type": "execute_result",
          "data": {
            "text/plain": [
              "array([[-1,  1],\n",
              "       [ 0,  2]])"
            ]
          },
          "metadata": {},
          "execution_count": 17
        }
      ]
    },
    {
      "cell_type": "code",
      "source": [
        "B = np.array([[-1, 0.5], [0, 0.5]])\n",
        "B"
      ],
      "metadata": {
        "colab": {
          "base_uri": "https://localhost:8080/"
        },
        "id": "xU1RzHGrxggL",
        "outputId": "3acb8b11-0693-4b1c-f2b2-aac82232d1ac"
      },
      "execution_count": null,
      "outputs": [
        {
          "output_type": "execute_result",
          "data": {
            "text/plain": [
              "array([[-1. ,  0.5],\n",
              "       [ 0. ,  0.5]])"
            ]
          },
          "metadata": {},
          "execution_count": 18
        }
      ]
    },
    {
      "cell_type": "code",
      "source": [
        "C = np.array([[1, 2], [-2, 4]])\n",
        "C"
      ],
      "metadata": {
        "colab": {
          "base_uri": "https://localhost:8080/"
        },
        "id": "PY8l_C0lxmFt",
        "outputId": "62602f3f-4373-4517-9d4f-3d04a3b15acc"
      },
      "execution_count": null,
      "outputs": [
        {
          "output_type": "execute_result",
          "data": {
            "text/plain": [
              "array([[ 1,  2],\n",
              "       [-2,  4]])"
            ]
          },
          "metadata": {},
          "execution_count": 19
        }
      ]
    },
    {
      "cell_type": "code",
      "source": [
        "A_inv = np.linalg.inv(A)\n",
        "A_inv"
      ],
      "metadata": {
        "colab": {
          "base_uri": "https://localhost:8080/"
        },
        "id": "1betJVsQxqw4",
        "outputId": "454586b7-563e-4e89-c725-9b3de4bb25b9"
      },
      "execution_count": null,
      "outputs": [
        {
          "output_type": "execute_result",
          "data": {
            "text/plain": [
              "array([[-1. ,  0.5],\n",
              "       [ 0. ,  0.5]])"
            ]
          },
          "metadata": {},
          "execution_count": 21
        }
      ]
    },
    {
      "cell_type": "code",
      "source": [
        "B_inv = np.linalg.inv(B)\n",
        "B_inv"
      ],
      "metadata": {
        "colab": {
          "base_uri": "https://localhost:8080/"
        },
        "id": "GhvorRqIx6CQ",
        "outputId": "e54269e2-961a-4631-d462-40e313510ae4"
      },
      "execution_count": null,
      "outputs": [
        {
          "output_type": "execute_result",
          "data": {
            "text/plain": [
              "array([[-1.,  1.],\n",
              "       [ 0.,  2.]])"
            ]
          },
          "metadata": {},
          "execution_count": 22
        }
      ]
    },
    {
      "cell_type": "code",
      "source": [
        "X = A_inv @ C @ B_inv"
      ],
      "metadata": {
        "id": "x0dWYMT6yAHG"
      },
      "execution_count": null,
      "outputs": []
    },
    {
      "cell_type": "code",
      "source": [
        "X"
      ],
      "metadata": {
        "colab": {
          "base_uri": "https://localhost:8080/"
        },
        "id": "T_UJfPS0yeLl",
        "outputId": "03b5e231-d06e-4dd9-891b-ce4bcca1ce85"
      },
      "execution_count": null,
      "outputs": [
        {
          "output_type": "execute_result",
          "data": {
            "text/plain": [
              "array([[ 2., -2.],\n",
              "       [ 1.,  3.]])"
            ]
          },
          "metadata": {},
          "execution_count": 28
        }
      ]
    },
    {
      "cell_type": "markdown",
      "source": [
        "Get Apple, Tesla, AMD, Amazon daily data for the last 2 years.\n",
        "\n",
        "Plot return density for each stock on the single figure.\n",
        "\n",
        "Build a portfolio using arbitrary weights and calculate VaR95\n",
        "\n",
        "Plot portfolio returns histogram.\n",
        "\n"
      ],
      "metadata": {
        "id": "BL4CtafkykeH"
      }
    },
    {
      "cell_type": "code",
      "source": [
        "import yfinance as yf"
      ],
      "metadata": {
        "id": "4GDtJ_FizQOv"
      },
      "execution_count": null,
      "outputs": []
    },
    {
      "cell_type": "code",
      "source": [
        "df = yf.download(\n",
        "    ['AAPL', 'TSLA', 'AMD', 'AMZN'],\n",
        "    interval='1d',\n",
        "    period='2y'\n",
        ")"
      ],
      "metadata": {
        "colab": {
          "base_uri": "https://localhost:8080/"
        },
        "id": "QFMn1ZNXzfv1",
        "outputId": "69547e4d-381e-432a-ba6c-faadfbe443a7"
      },
      "execution_count": null,
      "outputs": [
        {
          "output_type": "stream",
          "name": "stdout",
          "text": [
            "[*********************100%%**********************]  4 of 4 completed\n"
          ]
        }
      ]
    },
    {
      "cell_type": "code",
      "source": [
        "df"
      ],
      "metadata": {
        "colab": {
          "base_uri": "https://localhost:8080/",
          "height": 481
        },
        "id": "DvDqbZvYz1xj",
        "outputId": "34b756b8-18b5-47ab-efa8-b6a649899498"
      },
      "execution_count": null,
      "outputs": [
        {
          "output_type": "execute_result",
          "data": {
            "text/plain": [
              "             Adj Close                                           Close  \\\n",
              "                  AAPL         AMD        AMZN        TSLA        AAPL   \n",
              "Date                                                                     \n",
              "2021-10-21  147.770401  119.330002  171.750504  298.000000  149.479996   \n",
              "2021-10-22  146.989441  119.820000  166.777496  303.226654  148.690002   \n",
              "2021-10-25  146.940033  122.360001  166.018494  341.619995  148.639999   \n",
              "2021-10-26  147.612274  122.930000  168.803497  339.476654  149.320007   \n",
              "2021-10-27  147.147629  122.279999  169.624496  345.953339  148.850006   \n",
              "...                ...         ...         ...         ...         ...   \n",
              "2023-10-16  178.720001  106.459999  132.550003  253.919998  178.720001   \n",
              "2023-10-17  177.149994  105.139999  131.470001  254.850006  177.149994   \n",
              "2023-10-18  175.839996  102.169998  128.130005  242.679993  175.839996   \n",
              "2023-10-19  175.460007  102.400002  128.399994  220.110001  175.460007   \n",
              "2023-10-20  172.880005  101.809998  125.169998  211.990005  172.880005   \n",
              "\n",
              "                                                      High              ...  \\\n",
              "                   AMD        AMZN        TSLA        AAPL         AMD  ...   \n",
              "Date                                                                    ...   \n",
              "2021-10-21  119.330002  171.750504  298.000000  149.639999  119.680000  ...   \n",
              "2021-10-22  119.820000  166.777496  303.226654  150.179993  121.559998  ...   \n",
              "2021-10-25  122.360001  166.018494  341.619995  149.369995  123.459999  ...   \n",
              "2021-10-26  122.930000  168.803497  339.476654  150.839996  127.199997  ...   \n",
              "2021-10-27  122.279999  169.624496  345.953339  149.729996  128.080002  ...   \n",
              "...                ...         ...         ...         ...         ...  ...   \n",
              "2023-10-16  106.459999  132.550003  253.919998  179.080002  107.480003  ...   \n",
              "2023-10-17  105.139999  131.470001  254.850006  178.419998  106.290001  ...   \n",
              "2023-10-18  102.169998  128.130005  242.679993  177.580002  104.779999  ...   \n",
              "2023-10-19  102.400002  128.399994  220.110001  177.839996  105.599998  ...   \n",
              "2023-10-20  101.809998  125.169998  211.990005  175.419998  104.339996  ...   \n",
              "\n",
              "                   Low                    Open                          \\\n",
              "                  AMZN        TSLA        AAPL         AMD        AMZN   \n",
              "Date                                                                     \n",
              "2021-10-21  170.149994  285.166656  148.809998  116.500000  170.712494   \n",
              "2021-10-22  166.565002  296.986664  149.690002  120.830002  171.050003   \n",
              "2021-10-25  164.884995  314.733337  148.679993  120.519997  166.750000   \n",
              "2021-10-26  167.199005  333.813324  149.330002  122.989998  167.475494   \n",
              "2021-10-27  168.572495  343.593323  149.360001  121.629997  169.399994   \n",
              "...                ...         ...         ...         ...         ...   \n",
              "2023-10-16  130.429993  248.479996  176.750000  105.419998  130.690002   \n",
              "2023-10-17  128.710007  247.080002  176.649994  103.540001  130.389999   \n",
              "2023-10-18  127.510002  242.080002  175.580002  103.379997  129.899994   \n",
              "2023-10-19  127.470001  216.779999  176.039993  103.809998  130.570007   \n",
              "2023-10-20  124.970001  210.419998  175.309998  102.279999  128.050003   \n",
              "\n",
              "                          Volume                                 \n",
              "                  TSLA      AAPL       AMD      AMZN       TSLA  \n",
              "Date                                                             \n",
              "2021-10-21  285.333344  61421000  34794900  37628000   94444500  \n",
              "2021-10-22  298.500000  58883400  38992700  62782000   68642400  \n",
              "2021-10-25  316.843323  50720600  47834100  44520000  188556300  \n",
              "2021-10-26  341.563324  60893400  59458900  53966000  187245000  \n",
              "2021-10-27  346.553345  56094900  98245300  54044000  115579500  \n",
              "...                ...       ...       ...       ...        ...  \n",
              "2023-10-16  250.050003  52517000  42464500  42832900   88917200  \n",
              "2023-10-17  250.100006  57549400  49642100  49344600   93562900  \n",
              "2023-10-18  252.699997  54764400  50450000  42699500  125147800  \n",
              "2023-10-19  225.949997  59302900  52734200  60961400  170772700  \n",
              "2023-10-20  217.009995  64189300  61285600  56343300  137734000  \n",
              "\n",
              "[503 rows x 24 columns]"
            ],
            "text/html": [
              "\n",
              "  <div id=\"df-82c3f44f-628b-4a0b-8a0d-e624daa0a90c\" class=\"colab-df-container\">\n",
              "    <div>\n",
              "<style scoped>\n",
              "    .dataframe tbody tr th:only-of-type {\n",
              "        vertical-align: middle;\n",
              "    }\n",
              "\n",
              "    .dataframe tbody tr th {\n",
              "        vertical-align: top;\n",
              "    }\n",
              "\n",
              "    .dataframe thead tr th {\n",
              "        text-align: left;\n",
              "    }\n",
              "\n",
              "    .dataframe thead tr:last-of-type th {\n",
              "        text-align: right;\n",
              "    }\n",
              "</style>\n",
              "<table border=\"1\" class=\"dataframe\">\n",
              "  <thead>\n",
              "    <tr>\n",
              "      <th></th>\n",
              "      <th colspan=\"4\" halign=\"left\">Adj Close</th>\n",
              "      <th colspan=\"4\" halign=\"left\">Close</th>\n",
              "      <th colspan=\"2\" halign=\"left\">High</th>\n",
              "      <th>...</th>\n",
              "      <th colspan=\"2\" halign=\"left\">Low</th>\n",
              "      <th colspan=\"4\" halign=\"left\">Open</th>\n",
              "      <th colspan=\"4\" halign=\"left\">Volume</th>\n",
              "    </tr>\n",
              "    <tr>\n",
              "      <th></th>\n",
              "      <th>AAPL</th>\n",
              "      <th>AMD</th>\n",
              "      <th>AMZN</th>\n",
              "      <th>TSLA</th>\n",
              "      <th>AAPL</th>\n",
              "      <th>AMD</th>\n",
              "      <th>AMZN</th>\n",
              "      <th>TSLA</th>\n",
              "      <th>AAPL</th>\n",
              "      <th>AMD</th>\n",
              "      <th>...</th>\n",
              "      <th>AMZN</th>\n",
              "      <th>TSLA</th>\n",
              "      <th>AAPL</th>\n",
              "      <th>AMD</th>\n",
              "      <th>AMZN</th>\n",
              "      <th>TSLA</th>\n",
              "      <th>AAPL</th>\n",
              "      <th>AMD</th>\n",
              "      <th>AMZN</th>\n",
              "      <th>TSLA</th>\n",
              "    </tr>\n",
              "    <tr>\n",
              "      <th>Date</th>\n",
              "      <th></th>\n",
              "      <th></th>\n",
              "      <th></th>\n",
              "      <th></th>\n",
              "      <th></th>\n",
              "      <th></th>\n",
              "      <th></th>\n",
              "      <th></th>\n",
              "      <th></th>\n",
              "      <th></th>\n",
              "      <th></th>\n",
              "      <th></th>\n",
              "      <th></th>\n",
              "      <th></th>\n",
              "      <th></th>\n",
              "      <th></th>\n",
              "      <th></th>\n",
              "      <th></th>\n",
              "      <th></th>\n",
              "      <th></th>\n",
              "      <th></th>\n",
              "    </tr>\n",
              "  </thead>\n",
              "  <tbody>\n",
              "    <tr>\n",
              "      <th>2021-10-21</th>\n",
              "      <td>147.770401</td>\n",
              "      <td>119.330002</td>\n",
              "      <td>171.750504</td>\n",
              "      <td>298.000000</td>\n",
              "      <td>149.479996</td>\n",
              "      <td>119.330002</td>\n",
              "      <td>171.750504</td>\n",
              "      <td>298.000000</td>\n",
              "      <td>149.639999</td>\n",
              "      <td>119.680000</td>\n",
              "      <td>...</td>\n",
              "      <td>170.149994</td>\n",
              "      <td>285.166656</td>\n",
              "      <td>148.809998</td>\n",
              "      <td>116.500000</td>\n",
              "      <td>170.712494</td>\n",
              "      <td>285.333344</td>\n",
              "      <td>61421000</td>\n",
              "      <td>34794900</td>\n",
              "      <td>37628000</td>\n",
              "      <td>94444500</td>\n",
              "    </tr>\n",
              "    <tr>\n",
              "      <th>2021-10-22</th>\n",
              "      <td>146.989441</td>\n",
              "      <td>119.820000</td>\n",
              "      <td>166.777496</td>\n",
              "      <td>303.226654</td>\n",
              "      <td>148.690002</td>\n",
              "      <td>119.820000</td>\n",
              "      <td>166.777496</td>\n",
              "      <td>303.226654</td>\n",
              "      <td>150.179993</td>\n",
              "      <td>121.559998</td>\n",
              "      <td>...</td>\n",
              "      <td>166.565002</td>\n",
              "      <td>296.986664</td>\n",
              "      <td>149.690002</td>\n",
              "      <td>120.830002</td>\n",
              "      <td>171.050003</td>\n",
              "      <td>298.500000</td>\n",
              "      <td>58883400</td>\n",
              "      <td>38992700</td>\n",
              "      <td>62782000</td>\n",
              "      <td>68642400</td>\n",
              "    </tr>\n",
              "    <tr>\n",
              "      <th>2021-10-25</th>\n",
              "      <td>146.940033</td>\n",
              "      <td>122.360001</td>\n",
              "      <td>166.018494</td>\n",
              "      <td>341.619995</td>\n",
              "      <td>148.639999</td>\n",
              "      <td>122.360001</td>\n",
              "      <td>166.018494</td>\n",
              "      <td>341.619995</td>\n",
              "      <td>149.369995</td>\n",
              "      <td>123.459999</td>\n",
              "      <td>...</td>\n",
              "      <td>164.884995</td>\n",
              "      <td>314.733337</td>\n",
              "      <td>148.679993</td>\n",
              "      <td>120.519997</td>\n",
              "      <td>166.750000</td>\n",
              "      <td>316.843323</td>\n",
              "      <td>50720600</td>\n",
              "      <td>47834100</td>\n",
              "      <td>44520000</td>\n",
              "      <td>188556300</td>\n",
              "    </tr>\n",
              "    <tr>\n",
              "      <th>2021-10-26</th>\n",
              "      <td>147.612274</td>\n",
              "      <td>122.930000</td>\n",
              "      <td>168.803497</td>\n",
              "      <td>339.476654</td>\n",
              "      <td>149.320007</td>\n",
              "      <td>122.930000</td>\n",
              "      <td>168.803497</td>\n",
              "      <td>339.476654</td>\n",
              "      <td>150.839996</td>\n",
              "      <td>127.199997</td>\n",
              "      <td>...</td>\n",
              "      <td>167.199005</td>\n",
              "      <td>333.813324</td>\n",
              "      <td>149.330002</td>\n",
              "      <td>122.989998</td>\n",
              "      <td>167.475494</td>\n",
              "      <td>341.563324</td>\n",
              "      <td>60893400</td>\n",
              "      <td>59458900</td>\n",
              "      <td>53966000</td>\n",
              "      <td>187245000</td>\n",
              "    </tr>\n",
              "    <tr>\n",
              "      <th>2021-10-27</th>\n",
              "      <td>147.147629</td>\n",
              "      <td>122.279999</td>\n",
              "      <td>169.624496</td>\n",
              "      <td>345.953339</td>\n",
              "      <td>148.850006</td>\n",
              "      <td>122.279999</td>\n",
              "      <td>169.624496</td>\n",
              "      <td>345.953339</td>\n",
              "      <td>149.729996</td>\n",
              "      <td>128.080002</td>\n",
              "      <td>...</td>\n",
              "      <td>168.572495</td>\n",
              "      <td>343.593323</td>\n",
              "      <td>149.360001</td>\n",
              "      <td>121.629997</td>\n",
              "      <td>169.399994</td>\n",
              "      <td>346.553345</td>\n",
              "      <td>56094900</td>\n",
              "      <td>98245300</td>\n",
              "      <td>54044000</td>\n",
              "      <td>115579500</td>\n",
              "    </tr>\n",
              "    <tr>\n",
              "      <th>...</th>\n",
              "      <td>...</td>\n",
              "      <td>...</td>\n",
              "      <td>...</td>\n",
              "      <td>...</td>\n",
              "      <td>...</td>\n",
              "      <td>...</td>\n",
              "      <td>...</td>\n",
              "      <td>...</td>\n",
              "      <td>...</td>\n",
              "      <td>...</td>\n",
              "      <td>...</td>\n",
              "      <td>...</td>\n",
              "      <td>...</td>\n",
              "      <td>...</td>\n",
              "      <td>...</td>\n",
              "      <td>...</td>\n",
              "      <td>...</td>\n",
              "      <td>...</td>\n",
              "      <td>...</td>\n",
              "      <td>...</td>\n",
              "      <td>...</td>\n",
              "    </tr>\n",
              "    <tr>\n",
              "      <th>2023-10-16</th>\n",
              "      <td>178.720001</td>\n",
              "      <td>106.459999</td>\n",
              "      <td>132.550003</td>\n",
              "      <td>253.919998</td>\n",
              "      <td>178.720001</td>\n",
              "      <td>106.459999</td>\n",
              "      <td>132.550003</td>\n",
              "      <td>253.919998</td>\n",
              "      <td>179.080002</td>\n",
              "      <td>107.480003</td>\n",
              "      <td>...</td>\n",
              "      <td>130.429993</td>\n",
              "      <td>248.479996</td>\n",
              "      <td>176.750000</td>\n",
              "      <td>105.419998</td>\n",
              "      <td>130.690002</td>\n",
              "      <td>250.050003</td>\n",
              "      <td>52517000</td>\n",
              "      <td>42464500</td>\n",
              "      <td>42832900</td>\n",
              "      <td>88917200</td>\n",
              "    </tr>\n",
              "    <tr>\n",
              "      <th>2023-10-17</th>\n",
              "      <td>177.149994</td>\n",
              "      <td>105.139999</td>\n",
              "      <td>131.470001</td>\n",
              "      <td>254.850006</td>\n",
              "      <td>177.149994</td>\n",
              "      <td>105.139999</td>\n",
              "      <td>131.470001</td>\n",
              "      <td>254.850006</td>\n",
              "      <td>178.419998</td>\n",
              "      <td>106.290001</td>\n",
              "      <td>...</td>\n",
              "      <td>128.710007</td>\n",
              "      <td>247.080002</td>\n",
              "      <td>176.649994</td>\n",
              "      <td>103.540001</td>\n",
              "      <td>130.389999</td>\n",
              "      <td>250.100006</td>\n",
              "      <td>57549400</td>\n",
              "      <td>49642100</td>\n",
              "      <td>49344600</td>\n",
              "      <td>93562900</td>\n",
              "    </tr>\n",
              "    <tr>\n",
              "      <th>2023-10-18</th>\n",
              "      <td>175.839996</td>\n",
              "      <td>102.169998</td>\n",
              "      <td>128.130005</td>\n",
              "      <td>242.679993</td>\n",
              "      <td>175.839996</td>\n",
              "      <td>102.169998</td>\n",
              "      <td>128.130005</td>\n",
              "      <td>242.679993</td>\n",
              "      <td>177.580002</td>\n",
              "      <td>104.779999</td>\n",
              "      <td>...</td>\n",
              "      <td>127.510002</td>\n",
              "      <td>242.080002</td>\n",
              "      <td>175.580002</td>\n",
              "      <td>103.379997</td>\n",
              "      <td>129.899994</td>\n",
              "      <td>252.699997</td>\n",
              "      <td>54764400</td>\n",
              "      <td>50450000</td>\n",
              "      <td>42699500</td>\n",
              "      <td>125147800</td>\n",
              "    </tr>\n",
              "    <tr>\n",
              "      <th>2023-10-19</th>\n",
              "      <td>175.460007</td>\n",
              "      <td>102.400002</td>\n",
              "      <td>128.399994</td>\n",
              "      <td>220.110001</td>\n",
              "      <td>175.460007</td>\n",
              "      <td>102.400002</td>\n",
              "      <td>128.399994</td>\n",
              "      <td>220.110001</td>\n",
              "      <td>177.839996</td>\n",
              "      <td>105.599998</td>\n",
              "      <td>...</td>\n",
              "      <td>127.470001</td>\n",
              "      <td>216.779999</td>\n",
              "      <td>176.039993</td>\n",
              "      <td>103.809998</td>\n",
              "      <td>130.570007</td>\n",
              "      <td>225.949997</td>\n",
              "      <td>59302900</td>\n",
              "      <td>52734200</td>\n",
              "      <td>60961400</td>\n",
              "      <td>170772700</td>\n",
              "    </tr>\n",
              "    <tr>\n",
              "      <th>2023-10-20</th>\n",
              "      <td>172.880005</td>\n",
              "      <td>101.809998</td>\n",
              "      <td>125.169998</td>\n",
              "      <td>211.990005</td>\n",
              "      <td>172.880005</td>\n",
              "      <td>101.809998</td>\n",
              "      <td>125.169998</td>\n",
              "      <td>211.990005</td>\n",
              "      <td>175.419998</td>\n",
              "      <td>104.339996</td>\n",
              "      <td>...</td>\n",
              "      <td>124.970001</td>\n",
              "      <td>210.419998</td>\n",
              "      <td>175.309998</td>\n",
              "      <td>102.279999</td>\n",
              "      <td>128.050003</td>\n",
              "      <td>217.009995</td>\n",
              "      <td>64189300</td>\n",
              "      <td>61285600</td>\n",
              "      <td>56343300</td>\n",
              "      <td>137734000</td>\n",
              "    </tr>\n",
              "  </tbody>\n",
              "</table>\n",
              "<p>503 rows × 24 columns</p>\n",
              "</div>\n",
              "    <div class=\"colab-df-buttons\">\n",
              "\n",
              "  <div class=\"colab-df-container\">\n",
              "    <button class=\"colab-df-convert\" onclick=\"convertToInteractive('df-82c3f44f-628b-4a0b-8a0d-e624daa0a90c')\"\n",
              "            title=\"Convert this dataframe to an interactive table.\"\n",
              "            style=\"display:none;\">\n",
              "\n",
              "  <svg xmlns=\"http://www.w3.org/2000/svg\" height=\"24px\" viewBox=\"0 -960 960 960\">\n",
              "    <path d=\"M120-120v-720h720v720H120Zm60-500h600v-160H180v160Zm220 220h160v-160H400v160Zm0 220h160v-160H400v160ZM180-400h160v-160H180v160Zm440 0h160v-160H620v160ZM180-180h160v-160H180v160Zm440 0h160v-160H620v160Z\"/>\n",
              "  </svg>\n",
              "    </button>\n",
              "\n",
              "  <style>\n",
              "    .colab-df-container {\n",
              "      display:flex;\n",
              "      gap: 12px;\n",
              "    }\n",
              "\n",
              "    .colab-df-convert {\n",
              "      background-color: #E8F0FE;\n",
              "      border: none;\n",
              "      border-radius: 50%;\n",
              "      cursor: pointer;\n",
              "      display: none;\n",
              "      fill: #1967D2;\n",
              "      height: 32px;\n",
              "      padding: 0 0 0 0;\n",
              "      width: 32px;\n",
              "    }\n",
              "\n",
              "    .colab-df-convert:hover {\n",
              "      background-color: #E2EBFA;\n",
              "      box-shadow: 0px 1px 2px rgba(60, 64, 67, 0.3), 0px 1px 3px 1px rgba(60, 64, 67, 0.15);\n",
              "      fill: #174EA6;\n",
              "    }\n",
              "\n",
              "    .colab-df-buttons div {\n",
              "      margin-bottom: 4px;\n",
              "    }\n",
              "\n",
              "    [theme=dark] .colab-df-convert {\n",
              "      background-color: #3B4455;\n",
              "      fill: #D2E3FC;\n",
              "    }\n",
              "\n",
              "    [theme=dark] .colab-df-convert:hover {\n",
              "      background-color: #434B5C;\n",
              "      box-shadow: 0px 1px 3px 1px rgba(0, 0, 0, 0.15);\n",
              "      filter: drop-shadow(0px 1px 2px rgba(0, 0, 0, 0.3));\n",
              "      fill: #FFFFFF;\n",
              "    }\n",
              "  </style>\n",
              "\n",
              "    <script>\n",
              "      const buttonEl =\n",
              "        document.querySelector('#df-82c3f44f-628b-4a0b-8a0d-e624daa0a90c button.colab-df-convert');\n",
              "      buttonEl.style.display =\n",
              "        google.colab.kernel.accessAllowed ? 'block' : 'none';\n",
              "\n",
              "      async function convertToInteractive(key) {\n",
              "        const element = document.querySelector('#df-82c3f44f-628b-4a0b-8a0d-e624daa0a90c');\n",
              "        const dataTable =\n",
              "          await google.colab.kernel.invokeFunction('convertToInteractive',\n",
              "                                                    [key], {});\n",
              "        if (!dataTable) return;\n",
              "\n",
              "        const docLinkHtml = 'Like what you see? Visit the ' +\n",
              "          '<a target=\"_blank\" href=https://colab.research.google.com/notebooks/data_table.ipynb>data table notebook</a>'\n",
              "          + ' to learn more about interactive tables.';\n",
              "        element.innerHTML = '';\n",
              "        dataTable['output_type'] = 'display_data';\n",
              "        await google.colab.output.renderOutput(dataTable, element);\n",
              "        const docLink = document.createElement('div');\n",
              "        docLink.innerHTML = docLinkHtml;\n",
              "        element.appendChild(docLink);\n",
              "      }\n",
              "    </script>\n",
              "  </div>\n",
              "\n",
              "\n",
              "<div id=\"df-1227a9f1-dd74-4a0f-8c8c-d6d19a45a102\">\n",
              "  <button class=\"colab-df-quickchart\" onclick=\"quickchart('df-1227a9f1-dd74-4a0f-8c8c-d6d19a45a102')\"\n",
              "            title=\"Suggest charts.\"\n",
              "            style=\"display:none;\">\n",
              "\n",
              "<svg xmlns=\"http://www.w3.org/2000/svg\" height=\"24px\"viewBox=\"0 0 24 24\"\n",
              "     width=\"24px\">\n",
              "    <g>\n",
              "        <path d=\"M19 3H5c-1.1 0-2 .9-2 2v14c0 1.1.9 2 2 2h14c1.1 0 2-.9 2-2V5c0-1.1-.9-2-2-2zM9 17H7v-7h2v7zm4 0h-2V7h2v10zm4 0h-2v-4h2v4z\"/>\n",
              "    </g>\n",
              "</svg>\n",
              "  </button>\n",
              "\n",
              "<style>\n",
              "  .colab-df-quickchart {\n",
              "      --bg-color: #E8F0FE;\n",
              "      --fill-color: #1967D2;\n",
              "      --hover-bg-color: #E2EBFA;\n",
              "      --hover-fill-color: #174EA6;\n",
              "      --disabled-fill-color: #AAA;\n",
              "      --disabled-bg-color: #DDD;\n",
              "  }\n",
              "\n",
              "  [theme=dark] .colab-df-quickchart {\n",
              "      --bg-color: #3B4455;\n",
              "      --fill-color: #D2E3FC;\n",
              "      --hover-bg-color: #434B5C;\n",
              "      --hover-fill-color: #FFFFFF;\n",
              "      --disabled-bg-color: #3B4455;\n",
              "      --disabled-fill-color: #666;\n",
              "  }\n",
              "\n",
              "  .colab-df-quickchart {\n",
              "    background-color: var(--bg-color);\n",
              "    border: none;\n",
              "    border-radius: 50%;\n",
              "    cursor: pointer;\n",
              "    display: none;\n",
              "    fill: var(--fill-color);\n",
              "    height: 32px;\n",
              "    padding: 0;\n",
              "    width: 32px;\n",
              "  }\n",
              "\n",
              "  .colab-df-quickchart:hover {\n",
              "    background-color: var(--hover-bg-color);\n",
              "    box-shadow: 0 1px 2px rgba(60, 64, 67, 0.3), 0 1px 3px 1px rgba(60, 64, 67, 0.15);\n",
              "    fill: var(--button-hover-fill-color);\n",
              "  }\n",
              "\n",
              "  .colab-df-quickchart-complete:disabled,\n",
              "  .colab-df-quickchart-complete:disabled:hover {\n",
              "    background-color: var(--disabled-bg-color);\n",
              "    fill: var(--disabled-fill-color);\n",
              "    box-shadow: none;\n",
              "  }\n",
              "\n",
              "  .colab-df-spinner {\n",
              "    border: 2px solid var(--fill-color);\n",
              "    border-color: transparent;\n",
              "    border-bottom-color: var(--fill-color);\n",
              "    animation:\n",
              "      spin 1s steps(1) infinite;\n",
              "  }\n",
              "\n",
              "  @keyframes spin {\n",
              "    0% {\n",
              "      border-color: transparent;\n",
              "      border-bottom-color: var(--fill-color);\n",
              "      border-left-color: var(--fill-color);\n",
              "    }\n",
              "    20% {\n",
              "      border-color: transparent;\n",
              "      border-left-color: var(--fill-color);\n",
              "      border-top-color: var(--fill-color);\n",
              "    }\n",
              "    30% {\n",
              "      border-color: transparent;\n",
              "      border-left-color: var(--fill-color);\n",
              "      border-top-color: var(--fill-color);\n",
              "      border-right-color: var(--fill-color);\n",
              "    }\n",
              "    40% {\n",
              "      border-color: transparent;\n",
              "      border-right-color: var(--fill-color);\n",
              "      border-top-color: var(--fill-color);\n",
              "    }\n",
              "    60% {\n",
              "      border-color: transparent;\n",
              "      border-right-color: var(--fill-color);\n",
              "    }\n",
              "    80% {\n",
              "      border-color: transparent;\n",
              "      border-right-color: var(--fill-color);\n",
              "      border-bottom-color: var(--fill-color);\n",
              "    }\n",
              "    90% {\n",
              "      border-color: transparent;\n",
              "      border-bottom-color: var(--fill-color);\n",
              "    }\n",
              "  }\n",
              "</style>\n",
              "\n",
              "  <script>\n",
              "    async function quickchart(key) {\n",
              "      const quickchartButtonEl =\n",
              "        document.querySelector('#' + key + ' button');\n",
              "      quickchartButtonEl.disabled = true;  // To prevent multiple clicks.\n",
              "      quickchartButtonEl.classList.add('colab-df-spinner');\n",
              "      try {\n",
              "        const charts = await google.colab.kernel.invokeFunction(\n",
              "            'suggestCharts', [key], {});\n",
              "      } catch (error) {\n",
              "        console.error('Error during call to suggestCharts:', error);\n",
              "      }\n",
              "      quickchartButtonEl.classList.remove('colab-df-spinner');\n",
              "      quickchartButtonEl.classList.add('colab-df-quickchart-complete');\n",
              "    }\n",
              "    (() => {\n",
              "      let quickchartButtonEl =\n",
              "        document.querySelector('#df-1227a9f1-dd74-4a0f-8c8c-d6d19a45a102 button');\n",
              "      quickchartButtonEl.style.display =\n",
              "        google.colab.kernel.accessAllowed ? 'block' : 'none';\n",
              "    })();\n",
              "  </script>\n",
              "</div>\n",
              "    </div>\n",
              "  </div>\n"
            ]
          },
          "metadata": {},
          "execution_count": 31
        }
      ]
    },
    {
      "cell_type": "code",
      "source": [
        "r = df.Close / df.Close.shift(1) - 1\n",
        "r"
      ],
      "metadata": {
        "colab": {
          "base_uri": "https://localhost:8080/",
          "height": 450
        },
        "id": "-iYGgs3Pz8sV",
        "outputId": "a9632fcc-4828-42b3-f80e-3a4bb15b4771"
      },
      "execution_count": null,
      "outputs": [
        {
          "output_type": "execute_result",
          "data": {
            "text/plain": [
              "                AAPL       AMD      AMZN      TSLA\n",
              "Date                                              \n",
              "2021-10-21       NaN       NaN       NaN       NaN\n",
              "2021-10-22 -0.005285  0.004106 -0.028955  0.017539\n",
              "2021-10-25 -0.000336  0.021198 -0.004551  0.126616\n",
              "2021-10-26  0.004575  0.004658  0.016775 -0.006274\n",
              "2021-10-27 -0.003148 -0.005288  0.004864  0.019078\n",
              "...              ...       ...       ...       ...\n",
              "2023-10-16 -0.000727  0.013036  0.021265  0.011150\n",
              "2023-10-17 -0.008785 -0.012399 -0.008148  0.003663\n",
              "2023-10-18 -0.007395 -0.028248 -0.025405 -0.047754\n",
              "2023-10-19 -0.002161  0.002251  0.002107 -0.093003\n",
              "2023-10-20 -0.014704 -0.005762 -0.025156 -0.036891\n",
              "\n",
              "[503 rows x 4 columns]"
            ],
            "text/html": [
              "\n",
              "  <div id=\"df-09fb9a27-91b2-4134-8afa-7a156d68b851\" class=\"colab-df-container\">\n",
              "    <div>\n",
              "<style scoped>\n",
              "    .dataframe tbody tr th:only-of-type {\n",
              "        vertical-align: middle;\n",
              "    }\n",
              "\n",
              "    .dataframe tbody tr th {\n",
              "        vertical-align: top;\n",
              "    }\n",
              "\n",
              "    .dataframe thead th {\n",
              "        text-align: right;\n",
              "    }\n",
              "</style>\n",
              "<table border=\"1\" class=\"dataframe\">\n",
              "  <thead>\n",
              "    <tr style=\"text-align: right;\">\n",
              "      <th></th>\n",
              "      <th>AAPL</th>\n",
              "      <th>AMD</th>\n",
              "      <th>AMZN</th>\n",
              "      <th>TSLA</th>\n",
              "    </tr>\n",
              "    <tr>\n",
              "      <th>Date</th>\n",
              "      <th></th>\n",
              "      <th></th>\n",
              "      <th></th>\n",
              "      <th></th>\n",
              "    </tr>\n",
              "  </thead>\n",
              "  <tbody>\n",
              "    <tr>\n",
              "      <th>2021-10-21</th>\n",
              "      <td>NaN</td>\n",
              "      <td>NaN</td>\n",
              "      <td>NaN</td>\n",
              "      <td>NaN</td>\n",
              "    </tr>\n",
              "    <tr>\n",
              "      <th>2021-10-22</th>\n",
              "      <td>-0.005285</td>\n",
              "      <td>0.004106</td>\n",
              "      <td>-0.028955</td>\n",
              "      <td>0.017539</td>\n",
              "    </tr>\n",
              "    <tr>\n",
              "      <th>2021-10-25</th>\n",
              "      <td>-0.000336</td>\n",
              "      <td>0.021198</td>\n",
              "      <td>-0.004551</td>\n",
              "      <td>0.126616</td>\n",
              "    </tr>\n",
              "    <tr>\n",
              "      <th>2021-10-26</th>\n",
              "      <td>0.004575</td>\n",
              "      <td>0.004658</td>\n",
              "      <td>0.016775</td>\n",
              "      <td>-0.006274</td>\n",
              "    </tr>\n",
              "    <tr>\n",
              "      <th>2021-10-27</th>\n",
              "      <td>-0.003148</td>\n",
              "      <td>-0.005288</td>\n",
              "      <td>0.004864</td>\n",
              "      <td>0.019078</td>\n",
              "    </tr>\n",
              "    <tr>\n",
              "      <th>...</th>\n",
              "      <td>...</td>\n",
              "      <td>...</td>\n",
              "      <td>...</td>\n",
              "      <td>...</td>\n",
              "    </tr>\n",
              "    <tr>\n",
              "      <th>2023-10-16</th>\n",
              "      <td>-0.000727</td>\n",
              "      <td>0.013036</td>\n",
              "      <td>0.021265</td>\n",
              "      <td>0.011150</td>\n",
              "    </tr>\n",
              "    <tr>\n",
              "      <th>2023-10-17</th>\n",
              "      <td>-0.008785</td>\n",
              "      <td>-0.012399</td>\n",
              "      <td>-0.008148</td>\n",
              "      <td>0.003663</td>\n",
              "    </tr>\n",
              "    <tr>\n",
              "      <th>2023-10-18</th>\n",
              "      <td>-0.007395</td>\n",
              "      <td>-0.028248</td>\n",
              "      <td>-0.025405</td>\n",
              "      <td>-0.047754</td>\n",
              "    </tr>\n",
              "    <tr>\n",
              "      <th>2023-10-19</th>\n",
              "      <td>-0.002161</td>\n",
              "      <td>0.002251</td>\n",
              "      <td>0.002107</td>\n",
              "      <td>-0.093003</td>\n",
              "    </tr>\n",
              "    <tr>\n",
              "      <th>2023-10-20</th>\n",
              "      <td>-0.014704</td>\n",
              "      <td>-0.005762</td>\n",
              "      <td>-0.025156</td>\n",
              "      <td>-0.036891</td>\n",
              "    </tr>\n",
              "  </tbody>\n",
              "</table>\n",
              "<p>503 rows × 4 columns</p>\n",
              "</div>\n",
              "    <div class=\"colab-df-buttons\">\n",
              "\n",
              "  <div class=\"colab-df-container\">\n",
              "    <button class=\"colab-df-convert\" onclick=\"convertToInteractive('df-09fb9a27-91b2-4134-8afa-7a156d68b851')\"\n",
              "            title=\"Convert this dataframe to an interactive table.\"\n",
              "            style=\"display:none;\">\n",
              "\n",
              "  <svg xmlns=\"http://www.w3.org/2000/svg\" height=\"24px\" viewBox=\"0 -960 960 960\">\n",
              "    <path d=\"M120-120v-720h720v720H120Zm60-500h600v-160H180v160Zm220 220h160v-160H400v160Zm0 220h160v-160H400v160ZM180-400h160v-160H180v160Zm440 0h160v-160H620v160ZM180-180h160v-160H180v160Zm440 0h160v-160H620v160Z\"/>\n",
              "  </svg>\n",
              "    </button>\n",
              "\n",
              "  <style>\n",
              "    .colab-df-container {\n",
              "      display:flex;\n",
              "      gap: 12px;\n",
              "    }\n",
              "\n",
              "    .colab-df-convert {\n",
              "      background-color: #E8F0FE;\n",
              "      border: none;\n",
              "      border-radius: 50%;\n",
              "      cursor: pointer;\n",
              "      display: none;\n",
              "      fill: #1967D2;\n",
              "      height: 32px;\n",
              "      padding: 0 0 0 0;\n",
              "      width: 32px;\n",
              "    }\n",
              "\n",
              "    .colab-df-convert:hover {\n",
              "      background-color: #E2EBFA;\n",
              "      box-shadow: 0px 1px 2px rgba(60, 64, 67, 0.3), 0px 1px 3px 1px rgba(60, 64, 67, 0.15);\n",
              "      fill: #174EA6;\n",
              "    }\n",
              "\n",
              "    .colab-df-buttons div {\n",
              "      margin-bottom: 4px;\n",
              "    }\n",
              "\n",
              "    [theme=dark] .colab-df-convert {\n",
              "      background-color: #3B4455;\n",
              "      fill: #D2E3FC;\n",
              "    }\n",
              "\n",
              "    [theme=dark] .colab-df-convert:hover {\n",
              "      background-color: #434B5C;\n",
              "      box-shadow: 0px 1px 3px 1px rgba(0, 0, 0, 0.15);\n",
              "      filter: drop-shadow(0px 1px 2px rgba(0, 0, 0, 0.3));\n",
              "      fill: #FFFFFF;\n",
              "    }\n",
              "  </style>\n",
              "\n",
              "    <script>\n",
              "      const buttonEl =\n",
              "        document.querySelector('#df-09fb9a27-91b2-4134-8afa-7a156d68b851 button.colab-df-convert');\n",
              "      buttonEl.style.display =\n",
              "        google.colab.kernel.accessAllowed ? 'block' : 'none';\n",
              "\n",
              "      async function convertToInteractive(key) {\n",
              "        const element = document.querySelector('#df-09fb9a27-91b2-4134-8afa-7a156d68b851');\n",
              "        const dataTable =\n",
              "          await google.colab.kernel.invokeFunction('convertToInteractive',\n",
              "                                                    [key], {});\n",
              "        if (!dataTable) return;\n",
              "\n",
              "        const docLinkHtml = 'Like what you see? Visit the ' +\n",
              "          '<a target=\"_blank\" href=https://colab.research.google.com/notebooks/data_table.ipynb>data table notebook</a>'\n",
              "          + ' to learn more about interactive tables.';\n",
              "        element.innerHTML = '';\n",
              "        dataTable['output_type'] = 'display_data';\n",
              "        await google.colab.output.renderOutput(dataTable, element);\n",
              "        const docLink = document.createElement('div');\n",
              "        docLink.innerHTML = docLinkHtml;\n",
              "        element.appendChild(docLink);\n",
              "      }\n",
              "    </script>\n",
              "  </div>\n",
              "\n",
              "\n",
              "<div id=\"df-554e7db1-0bf1-4e41-a78d-b92295ad5857\">\n",
              "  <button class=\"colab-df-quickchart\" onclick=\"quickchart('df-554e7db1-0bf1-4e41-a78d-b92295ad5857')\"\n",
              "            title=\"Suggest charts.\"\n",
              "            style=\"display:none;\">\n",
              "\n",
              "<svg xmlns=\"http://www.w3.org/2000/svg\" height=\"24px\"viewBox=\"0 0 24 24\"\n",
              "     width=\"24px\">\n",
              "    <g>\n",
              "        <path d=\"M19 3H5c-1.1 0-2 .9-2 2v14c0 1.1.9 2 2 2h14c1.1 0 2-.9 2-2V5c0-1.1-.9-2-2-2zM9 17H7v-7h2v7zm4 0h-2V7h2v10zm4 0h-2v-4h2v4z\"/>\n",
              "    </g>\n",
              "</svg>\n",
              "  </button>\n",
              "\n",
              "<style>\n",
              "  .colab-df-quickchart {\n",
              "      --bg-color: #E8F0FE;\n",
              "      --fill-color: #1967D2;\n",
              "      --hover-bg-color: #E2EBFA;\n",
              "      --hover-fill-color: #174EA6;\n",
              "      --disabled-fill-color: #AAA;\n",
              "      --disabled-bg-color: #DDD;\n",
              "  }\n",
              "\n",
              "  [theme=dark] .colab-df-quickchart {\n",
              "      --bg-color: #3B4455;\n",
              "      --fill-color: #D2E3FC;\n",
              "      --hover-bg-color: #434B5C;\n",
              "      --hover-fill-color: #FFFFFF;\n",
              "      --disabled-bg-color: #3B4455;\n",
              "      --disabled-fill-color: #666;\n",
              "  }\n",
              "\n",
              "  .colab-df-quickchart {\n",
              "    background-color: var(--bg-color);\n",
              "    border: none;\n",
              "    border-radius: 50%;\n",
              "    cursor: pointer;\n",
              "    display: none;\n",
              "    fill: var(--fill-color);\n",
              "    height: 32px;\n",
              "    padding: 0;\n",
              "    width: 32px;\n",
              "  }\n",
              "\n",
              "  .colab-df-quickchart:hover {\n",
              "    background-color: var(--hover-bg-color);\n",
              "    box-shadow: 0 1px 2px rgba(60, 64, 67, 0.3), 0 1px 3px 1px rgba(60, 64, 67, 0.15);\n",
              "    fill: var(--button-hover-fill-color);\n",
              "  }\n",
              "\n",
              "  .colab-df-quickchart-complete:disabled,\n",
              "  .colab-df-quickchart-complete:disabled:hover {\n",
              "    background-color: var(--disabled-bg-color);\n",
              "    fill: var(--disabled-fill-color);\n",
              "    box-shadow: none;\n",
              "  }\n",
              "\n",
              "  .colab-df-spinner {\n",
              "    border: 2px solid var(--fill-color);\n",
              "    border-color: transparent;\n",
              "    border-bottom-color: var(--fill-color);\n",
              "    animation:\n",
              "      spin 1s steps(1) infinite;\n",
              "  }\n",
              "\n",
              "  @keyframes spin {\n",
              "    0% {\n",
              "      border-color: transparent;\n",
              "      border-bottom-color: var(--fill-color);\n",
              "      border-left-color: var(--fill-color);\n",
              "    }\n",
              "    20% {\n",
              "      border-color: transparent;\n",
              "      border-left-color: var(--fill-color);\n",
              "      border-top-color: var(--fill-color);\n",
              "    }\n",
              "    30% {\n",
              "      border-color: transparent;\n",
              "      border-left-color: var(--fill-color);\n",
              "      border-top-color: var(--fill-color);\n",
              "      border-right-color: var(--fill-color);\n",
              "    }\n",
              "    40% {\n",
              "      border-color: transparent;\n",
              "      border-right-color: var(--fill-color);\n",
              "      border-top-color: var(--fill-color);\n",
              "    }\n",
              "    60% {\n",
              "      border-color: transparent;\n",
              "      border-right-color: var(--fill-color);\n",
              "    }\n",
              "    80% {\n",
              "      border-color: transparent;\n",
              "      border-right-color: var(--fill-color);\n",
              "      border-bottom-color: var(--fill-color);\n",
              "    }\n",
              "    90% {\n",
              "      border-color: transparent;\n",
              "      border-bottom-color: var(--fill-color);\n",
              "    }\n",
              "  }\n",
              "</style>\n",
              "\n",
              "  <script>\n",
              "    async function quickchart(key) {\n",
              "      const quickchartButtonEl =\n",
              "        document.querySelector('#' + key + ' button');\n",
              "      quickchartButtonEl.disabled = true;  // To prevent multiple clicks.\n",
              "      quickchartButtonEl.classList.add('colab-df-spinner');\n",
              "      try {\n",
              "        const charts = await google.colab.kernel.invokeFunction(\n",
              "            'suggestCharts', [key], {});\n",
              "      } catch (error) {\n",
              "        console.error('Error during call to suggestCharts:', error);\n",
              "      }\n",
              "      quickchartButtonEl.classList.remove('colab-df-spinner');\n",
              "      quickchartButtonEl.classList.add('colab-df-quickchart-complete');\n",
              "    }\n",
              "    (() => {\n",
              "      let quickchartButtonEl =\n",
              "        document.querySelector('#df-554e7db1-0bf1-4e41-a78d-b92295ad5857 button');\n",
              "      quickchartButtonEl.style.display =\n",
              "        google.colab.kernel.accessAllowed ? 'block' : 'none';\n",
              "    })();\n",
              "  </script>\n",
              "</div>\n",
              "    </div>\n",
              "  </div>\n"
            ]
          },
          "metadata": {},
          "execution_count": 36
        }
      ]
    },
    {
      "cell_type": "code",
      "source": [
        "import pandas as pd"
      ],
      "metadata": {
        "id": "qlOjqR-T1X3k"
      },
      "execution_count": null,
      "outputs": []
    },
    {
      "cell_type": "code",
      "source": [
        "df_plot = pd.melt(r, value_vars=['AAPL', 'AMD', 'AMZN', 'TSLA'])"
      ],
      "metadata": {
        "id": "LuIaLjmL0_QO"
      },
      "execution_count": null,
      "outputs": []
    },
    {
      "cell_type": "code",
      "source": [
        "sns.kdeplot(data=df_plot, x='value', hue='variable')"
      ],
      "metadata": {
        "colab": {
          "base_uri": "https://localhost:8080/",
          "height": 475
        },
        "id": "f7oHuIIO0PqR",
        "outputId": "569c4d04-746e-4005-e540-05ec64f57563"
      },
      "execution_count": null,
      "outputs": [
        {
          "output_type": "execute_result",
          "data": {
            "text/plain": [
              "<Axes: xlabel='value', ylabel='Density'>"
            ]
          },
          "metadata": {},
          "execution_count": 64
        },
        {
          "output_type": "display_data",
          "data": {
            "text/plain": [
              "<Figure size 640x480 with 1 Axes>"
            ],
            "image/png": "[encoded data removed]"
          },
          "metadata": {}
        }
      ]
    },
    {
      "cell_type": "code",
      "source": [
        "portfolio_weights = np.random.random(4)\n",
        "portfolio_weights = portfolio_weights / np.sum(portfolio_weights)"
      ],
      "metadata": {
        "id": "jsovYwCG1j67"
      },
      "execution_count": null,
      "outputs": []
    },
    {
      "cell_type": "code",
      "source": [
        "portfolio_weights"
      ],
      "metadata": {
        "colab": {
          "base_uri": "https://localhost:8080/"
        },
        "id": "_07d6uic17AO",
        "outputId": "104c0837-cb46-4a81-9d81-872debd57d2a"
      },
      "execution_count": null,
      "outputs": [
        {
          "output_type": "execute_result",
          "data": {
            "text/plain": [
              "array([0.20994769, 0.05302716, 0.2880149 , 0.44901025])"
            ]
          },
          "metadata": {},
          "execution_count": 48
        }
      ]
    },
    {
      "cell_type": "code",
      "source": [
        "r_weighted = r.mul(portfolio_weights, axis=1)"
      ],
      "metadata": {
        "id": "C1CeO88h2Ok4"
      },
      "execution_count": null,
      "outputs": []
    },
    {
      "cell_type": "code",
      "source": [
        "portfolio_r = r_weighted.dropna().sum(axis=1) * 100"
      ],
      "metadata": {
        "id": "qO3kFneR2fbQ"
      },
      "execution_count": null,
      "outputs": []
    },
    {
      "cell_type": "code",
      "source": [
        "portfolio_r"
      ],
      "metadata": {
        "colab": {
          "base_uri": "https://localhost:8080/"
        },
        "id": "6O68PKlj2k3w",
        "outputId": "057cbce7-0ede-42c6-f679-810e58db6048"
      },
      "execution_count": null,
      "outputs": [
        {
          "output_type": "execute_result",
          "data": {
            "text/plain": [
              "Date\n",
              "2021-10-22   -0.135600\n",
              "2021-10-25    5.659461\n",
              "2021-10-26    0.322192\n",
              "2021-10-27    0.902600\n",
              "2021-10-28    2.630300\n",
              "                ...   \n",
              "2023-10-16    1.166986\n",
              "2023-10-17   -0.320398\n",
              "2023-10-18   -3.180934\n",
              "2023-10-19   -4.148678\n",
              "2023-10-20   -2.720214\n",
              "Length: 502, dtype: float64"
            ]
          },
          "metadata": {},
          "execution_count": 59
        }
      ]
    },
    {
      "cell_type": "code",
      "source": [
        "sns.histplot(x=portfolio_r)"
      ],
      "metadata": {
        "colab": {
          "base_uri": "https://localhost:8080/",
          "height": 451
        },
        "id": "aDv-jvV526VV",
        "outputId": "485cd311-6c82-4f43-a326-23dd8f2be4b9"
      },
      "execution_count": null,
      "outputs": [
        {
          "output_type": "execute_result",
          "data": {
            "text/plain": [
              "<Axes: ylabel='Count'>"
            ]
          },
          "metadata": {},
          "execution_count": 60
        },
        {
          "output_type": "display_data",
          "data": {
            "text/plain": [
              "<Figure size 640x480 with 1 Axes>"
            ],
            "image/png": "[encoded data removed]"
          },
          "metadata": {}
        }
      ]
    },
    {
      "cell_type": "code",
      "source": [
        "var95 = np.percentile(portfolio_r, 5)"
      ],
      "metadata": {
        "id": "yzwUzluR3IhF"
      },
      "execution_count": null,
      "outputs": []
    },
    {
      "cell_type": "code",
      "source": [
        "var95"
      ],
      "metadata": {
        "colab": {
          "base_uri": "https://localhost:8080/"
        },
        "id": "47C8b-qe3WEp",
        "outputId": "662bfbe2-66d2-40e7-9185-0e034a176313"
      },
      "execution_count": null,
      "outputs": [
        {
          "output_type": "execute_result",
          "data": {
            "text/plain": [
              "-4.4699597359408925"
            ]
          },
          "metadata": {},
          "execution_count": 62
        }
      ]
    }
  ]
}